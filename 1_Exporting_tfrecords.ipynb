{
 "cells": [
  {
   "cell_type": "code",
   "execution_count": 1,
   "metadata": {},
   "outputs": [],
   "source": [
    "import tensorflow as tf\n",
    "tf.enable_eager_execution()\n"
   ]
  },
  {
   "cell_type": "code",
   "execution_count": 2,
   "metadata": {},
   "outputs": [],
   "source": [
    "import numpy as np\n",
    "import matplotlib.pyplot as plt\n",
    "from sklearn.utils import shuffle\n",
    "from sklearn.model_selection import train_test_split\n",
    "import h5py\n",
    "import os, math, gc\n",
    "from tqdm import tqdm\n",
    "import cv2\n",
    "import gc"
   ]
  },
  {
   "cell_type": "markdown",
   "metadata": {},
   "source": [
    "# Dataset creation\n",
    "To be able to input the DeepFashion dataset, we need to massage it into a format accepted by the Glow model."
   ]
  },
  {
   "cell_type": "code",
   "execution_count": 22,
   "metadata": {},
   "outputs": [],
   "source": [
    "PROJECT_DIR = '/project/fashion-flow'\n",
    "DATA_DIR = os.path.join(PROJECT_DIR, 'data')\n",
    "DEEPFASHION_DIR = os.path.join(DATA_DIR, 'DeepFashion', 'FashionSynthesis')\n",
    "IMG_PER_CHUNK = 225\n",
    "TEST_RATIO = .25\n",
    "IMAGE_SIZE = 64\n",
    "DEFAULT_SHAPE = (IMAGE_SIZE, IMAGE_SIZE, 3)\n",
    "DEFAULT_LABEL = [0]"
   ]
  },
  {
   "cell_type": "markdown",
   "metadata": {},
   "source": [
    "### Reading in h5 file"
   ]
  },
  {
   "cell_type": "code",
   "execution_count": 4,
   "metadata": {},
   "outputs": [],
   "source": [
    "f = h5py.File(os.path.join(DEEPFASHION_DIR, 'G2.h5'), 'r')\n",
    "segmentations_ds = f['b_']\n",
    "images_ds = f['ih']\n",
    "N = len(images_ds)"
   ]
  },
  {
   "cell_type": "code",
   "execution_count": 66,
   "metadata": {},
   "outputs": [],
   "source": [
    "# ghost = f['ih_mean'].value"
   ]
  },
  {
   "cell_type": "code",
   "execution_count": 27,
   "metadata": {},
   "outputs": [],
   "source": [
    "# images_ds2 = images_ds.value.transpose(0,2,3,1)"
   ]
  },
  {
   "cell_type": "code",
   "execution_count": 28,
   "metadata": {},
   "outputs": [],
   "source": [
    "# print(ghost.shape)\n",
    "# ghost = ghost.transpose(1,2,0)\n",
    "# print(ghost.shape)"
   ]
  },
  {
   "cell_type": "code",
   "execution_count": 29,
   "metadata": {},
   "outputs": [],
   "source": [
    "# #Resizing\n",
    "# res_images_ds = np.zeros((images_ds.shape[0],64,64,3))\n",
    "# for idx in range(len(images_ds)):\n",
    "#     res_images_ds[idx,:] = cv2.resize(images_ds2[idx], (64, 64), interpolation = cv2.INTER_AREA)\n"
   ]
  },
  {
   "cell_type": "code",
   "execution_count": 30,
   "metadata": {},
   "outputs": [],
   "source": [
    "# print(ghost.shape)\n",
    "# ghost = cv2.resize(ghost, (64, 64), interpolation = cv2.INTER_AREA)\n",
    "# print(ghost.shape)"
   ]
  },
  {
   "cell_type": "code",
   "execution_count": 31,
   "metadata": {},
   "outputs": [],
   "source": [
    "# print(res_images_ds.shape)\n",
    "# res_images_ds = res_images_ds.transpose(0,3,1,2)\n",
    "# print(res_images_ds.shape)"
   ]
  },
  {
   "cell_type": "code",
   "execution_count": 32,
   "metadata": {},
   "outputs": [],
   "source": [
    "# ghost = ghost.transpose(2,0,1)"
   ]
  },
  {
   "cell_type": "markdown",
   "metadata": {},
   "source": [
    "The channel is in front and the images are rotated 90 degrees by default. So we will take the transpose of the images as well as the ghosts."
   ]
  },
  {
   "cell_type": "code",
   "execution_count": 70,
   "metadata": {},
   "outputs": [],
   "source": [
    "i = 236"
   ]
  },
  {
   "cell_type": "code",
   "execution_count": 71,
   "metadata": {},
   "outputs": [
    {
     "name": "stdout",
     "output_type": "stream",
     "text": [
      "(3, 128, 128)\n"
     ]
    },
    {
     "data": {
      "image/png": "[encoded data removed]",
      "text/plain": [
       "<Figure size 432x288 with 1 Axes>"
      ]
     },
     "metadata": {
      "needs_background": "light"
     },
     "output_type": "display_data"
    }
   ],
   "source": [
    "print(images_ds[0].shape)\n",
    "_=plt.imshow(segmentations_ds[i][0].T)"
   ]
  },
  {
   "cell_type": "code",
   "execution_count": 72,
   "metadata": {},
   "outputs": [
    {
     "name": "stderr",
     "output_type": "stream",
     "text": [
      "Clipping input data to the valid range for imshow with RGB data ([0..1] for floats or [0..255] for integers).\n"
     ]
    },
    {
     "name": "stdout",
     "output_type": "stream",
     "text": [
      "(128, 128, 3)\n"
     ]
    },
    {
     "data": {
      "image/png": "[encoded data removed]",
      "text/plain": [
       "<Figure size 432x288 with 1 Axes>"
      ]
     },
     "metadata": {
      "needs_background": "light"
     },
     "output_type": "display_data"
    }
   ],
   "source": [
    "print(images_ds[i].T.shape)\n",
    "_=plt.imshow(images_ds[i].T)"
   ]
  },
  {
   "cell_type": "markdown",
   "metadata": {},
   "source": [
    "### Forming train, test splits"
   ]
  },
  {
   "cell_type": "markdown",
   "metadata": {},
   "source": [
    "We will extract the images out from the h5 dataformat into a list of chunks."
   ]
  },
  {
   "cell_type": "code",
   "execution_count": 14,
   "metadata": {},
   "outputs": [],
   "source": [
    "images, segmentations = shuffle(images_ds.value, segmentations_ds.value)"
   ]
  },
  {
   "cell_type": "code",
   "execution_count": 16,
   "metadata": {},
   "outputs": [],
   "source": [
    "train_images, test_images, train_segmentations, test_segmentations = train_test_split(\n",
    "    images, segmentations, test_size=TEST_RATIO, shuffle=False)"
   ]
  },
  {
   "cell_type": "code",
   "execution_count": 17,
   "metadata": {},
   "outputs": [],
   "source": [
    "train_img_chunks = []\n",
    "train_seg_chunks = []\n",
    "for i in range(math.floor(len(train_images)//IMG_PER_CHUNK)):\n",
    "    train_img_chunks.append(train_images[i*IMG_PER_CHUNK:(i+1)*IMG_PER_CHUNK])\n",
    "    train_seg_chunks.append(train_segmentations[i*IMG_PER_CHUNK:(i+1)*IMG_PER_CHUNK])\n",
    "\n",
    "test_img_chunks = []\n",
    "test_seg_chunks = []\n",
    "for i in range(math.floor(len(test_images)//IMG_PER_CHUNK)):\n",
    "    test_img_chunks.append(test_images[i*IMG_PER_CHUNK:(i+1)*IMG_PER_CHUNK])\n",
    "    test_seg_chunks.append(test_segmentations[i*IMG_PER_CHUNK:(i+1)*IMG_PER_CHUNK])"
   ]
  },
  {
   "cell_type": "markdown",
   "metadata": {},
   "source": [
    "The leftovers"
   ]
  },
  {
   "cell_type": "code",
   "execution_count": 18,
   "metadata": {},
   "outputs": [],
   "source": [
    "train_img_chunks.append(train_images[(math.floor(len(train_images)//IMG_PER_CHUNK))*IMG_PER_CHUNK:])\n",
    "train_seg_chunks.append(train_segmentations[(math.floor(len(train_images)//IMG_PER_CHUNK))*IMG_PER_CHUNK:])\n",
    "\n",
    "test_img_chunks.append(test_images[(math.floor(len(test_images)//IMG_PER_CHUNK))*IMG_PER_CHUNK:])\n",
    "test_seg_chunks.append(test_segmentations[(math.floor(len(test_images)//IMG_PER_CHUNK))*IMG_PER_CHUNK:])"
   ]
  },
  {
   "cell_type": "code",
   "execution_count": 19,
   "metadata": {},
   "outputs": [
    {
     "name": "stdout",
     "output_type": "stream",
     "text": [
      "264 train chunks.\n",
      "88 test chunks.\n",
      "Total of 352 chunks.\n"
     ]
    }
   ],
   "source": [
    "print('{} train chunks.'.format(len(train_img_chunks)))\n",
    "print('{} test chunks.'.format(len(test_img_chunks)))\n",
    "print('Total of {} chunks.'.format(len(train_img_chunks) + len(test_img_chunks)))\n",
    "assert len(train_img_chunks) + len(test_img_chunks) == len(train_seg_chunks) + len(test_seg_chunks) == N//IMG_PER_CHUNK + 1 if N%IMG_PER_CHUNK!=0 else 0"
   ]
  },
  {
   "cell_type": "markdown",
   "metadata": {},
   "source": [
    "The shuffle method creates a copy, so we can delete the images and segmentations to make room in RAM."
   ]
  },
  {
   "cell_type": "code",
   "execution_count": 20,
   "metadata": {},
   "outputs": [
    {
     "data": {
      "text/plain": [
       "2369"
      ]
     },
     "execution_count": 20,
     "metadata": {},
     "output_type": "execute_result"
    }
   ],
   "source": [
    "del images, segmentations\n",
    "gc.collect()"
   ]
  },
  {
   "cell_type": "markdown",
   "metadata": {},
   "source": [
    "### Serializing to Tensorflow examples"
   ]
  },
  {
   "cell_type": "markdown",
   "metadata": {},
   "source": [
    "Our images are sized the same and we will be exploring unconditional training so we can set our shape and label as constants."
   ]
  },
  {
   "cell_type": "code",
   "execution_count": 23,
   "metadata": {},
   "outputs": [
    {
     "name": "stdout",
     "output_type": "stream",
     "text": [
      "Final shape of images will be: (64, 64, 3)\n",
      "Default label: [0]\n"
     ]
    }
   ],
   "source": [
    "print('Final shape of images will be: {}'.format(DEFAULT_SHAPE))\n",
    "print('Default label: {}'.format(DEFAULT_LABEL))"
   ]
  },
  {
   "cell_type": "code",
   "execution_count": 24,
   "metadata": {},
   "outputs": [],
   "source": [
    "def _int64_feature(value):\n",
    "    return tf.train.Feature(int64_list=tf.train.Int64List(value=[*value]))\n",
    "\n",
    "def _bytes_feature(value):\n",
    "    if isinstance(value, type(tf.constant(0))):\n",
    "        value = value.numpy() # BytesList won't unpack a string from an EagerTensor.\n",
    "    return tf.train.Feature(bytes_list=tf.train.BytesList(value=[value]))"
   ]
  },
  {
   "cell_type": "code",
   "execution_count": 47,
   "metadata": {},
   "outputs": [],
   "source": [
    "def resize_image(image, size=IMAGE_SIZE):\n",
    "    return cv2.resize(image, (size, size), interpolation = cv2.INTER_AREA)"
   ]
  },
  {
   "cell_type": "code",
   "execution_count": 48,
   "metadata": {},
   "outputs": [],
   "source": [
    "def encode_image(image, seg=None):\n",
    "    out = tf.image.convert_image_dtype(image + ghost if seg is None else image, dtype=tf.uint8).numpy()\n",
    "    return out.tostring()"
   ]
  },
  {
   "cell_type": "code",
   "execution_count": 49,
   "metadata": {},
   "outputs": [],
   "source": [
    "def serialize_example(img, seg=None, shape=DEFAULT_SHAPE, label=DEFAULT_LABEL):\n",
    "    '''\n",
    "    Creates a tf.Example message ready to be written to a file.\n",
    "    '''\n",
    "    # Transpose image\n",
    "    img = img.T\n",
    "    # Resize image\n",
    "    if img.shape[0] != shape[0]:\n",
    "        img = resize_image(img)\n",
    "    # Encode the image\n",
    "    img = encode_image(img)\n",
    "    # Create a dictionary mapping the feature name to the tf.Example-compatible data type.\n",
    "    feature = {\n",
    "        'shape': _int64_feature(shape),\n",
    "        'data': _bytes_feature(img),\n",
    "        'label': _int64_feature(label),\n",
    "    } \n",
    "    if seg is not None:\n",
    "        seg = encode_image(seg, True)\n",
    "        feature['seg'] = _bytes_feature(seg)\n",
    "    # Create a Features message using tf.train.Example.\n",
    "    example_proto = tf.train.Example(features=tf.train.Features(feature=feature))\n",
    "    return example_proto.SerializeToString()"
   ]
  },
  {
   "cell_type": "code",
   "execution_count": 50,
   "metadata": {},
   "outputs": [],
   "source": [
    "def parse_tfrecord_tf(record, res, rnd_crop, seg=None):\n",
    "    look_for = {\n",
    "        'shape': tf.FixedLenFeature([3], tf.int64),\n",
    "        'data': tf.FixedLenFeature([], tf.string),\n",
    "        'label': tf.FixedLenFeature([1], tf.int64)\n",
    "    }\n",
    "    if seg is not None:\n",
    "        look_for['seg'] = tf.FixedLenFeature([], tf.string)\n",
    "    features = tf.parse_single_example(record, features=look_for)\n",
    "    # to get CelebA attr, add 'attr': tf.FixedLenFeature([40], tf.int64)\n",
    "    data, label, shape = features['data'], features['label'], features['shape']\n",
    "    label = tf.cast(tf.reshape(label, shape=[]), dtype=tf.int32)\n",
    "    img = tf.decode_raw(data, tf.uint8)\n",
    "    if rnd_crop:\n",
    "        # For LSUN Realnvp only - random crop\n",
    "        img = tf.reshape(img, shape)\n",
    "        img = tf.random_crop(img, [res, res, 3])\n",
    "    img = tf.reshape(img, [res, res, 3])\n",
    "    if seg is not None:\n",
    "        seg = features['seg']\n",
    "        seg = tf.decode_raw(seg, tf.uint8)\n",
    "        seg = tf.reshape(seg, [res, res, 1])\n",
    "        return img, seg, label\n",
    "    return img, label  # to get CelebA attr, also return attr"
   ]
  },
  {
   "cell_type": "markdown",
   "metadata": {},
   "source": [
    "This is all the massaging needed to get our serialized example, let's give it a try with a sample image and segmentation map."
   ]
  },
  {
   "cell_type": "code",
   "execution_count": 54,
   "metadata": {},
   "outputs": [],
   "source": [
    "ghost = resize_image(f['ih_mean'].value.T)"
   ]
  },
  {
   "cell_type": "code",
   "execution_count": 56,
   "metadata": {},
   "outputs": [],
   "source": [
    "i = 101\n",
    "sample_img = train_images[i]\n",
    "sample_seg = train_segmentations[i]"
   ]
  },
  {
   "cell_type": "code",
   "execution_count": 60,
   "metadata": {},
   "outputs": [
    {
     "name": "stderr",
     "output_type": "stream",
     "text": [
      "Clipping input data to the valid range for imshow with RGB data ([0..1] for floats or [0..255] for integers).\n"
     ]
    },
    {
     "data": {
      "text/plain": [
       "(3, 128, 128)"
      ]
     },
     "execution_count": 60,
     "metadata": {},
     "output_type": "execute_result"
    },
    {
     "data": {
      "image/png": "[encoded data removed]",
      "text/plain": [
       "<Figure size 432x288 with 1 Axes>"
      ]
     },
     "metadata": {
      "needs_background": "light"
     },
     "output_type": "display_data"
    }
   ],
   "source": [
    "plt.imshow(sample_img.T)\n",
    "sample_img.shape"
   ]
  },
  {
   "cell_type": "code",
   "execution_count": 59,
   "metadata": {},
   "outputs": [
    {
     "name": "stdout",
     "output_type": "stream",
     "text": [
      "sample_serialized: b'\\n\\xb4`\\n\\x0e\\n\\x05label\\x12\\x05\\x1a\\x03\\n\\x01\\x00\\n\\x10\\n\\x05shape\\x12\\x07\\x1a\\x05\\n\\x03@@\\x03\\n\\x8f`\\n\\x04data\\x12\\x86`\\n\\x83`\\n\\x80`\\xee\\xee\\xee\\xee\\xee\\xee\\xee\\xee\\xee\\xee\\xee\\xee\\xee\\xee\\xee\\xee\\xee\\xee\\xee\\xee\\xee\\xee\\xee\\xee\\xee\\xee\\xee\\xee\\xee\\xee\\xf1\\xf1\\xf1\\xf1\\xf1\\xf1\\xf1\\xf1\\xf1\\xf1\\xf1\\xf1\\xf1\\xf1\\xf1'...\n"
     ]
    }
   ],
   "source": [
    "sample_serialized = serialize_example(sample_img)\n",
    "print('sample_serialized: {}...'.format(sample_serialized[:100]))"
   ]
  },
  {
   "cell_type": "markdown",
   "metadata": {},
   "source": [
    "Let's see if everything is working by parsing the serialized example."
   ]
  },
  {
   "cell_type": "code",
   "execution_count": 62,
   "metadata": {},
   "outputs": [],
   "source": [
    "img, label = parse_tfrecord_tf(sample_serialized, res=IMAGE_SIZE, rnd_crop=False, seg=None)"
   ]
  },
  {
   "cell_type": "code",
   "execution_count": 64,
   "metadata": {},
   "outputs": [
    {
     "data": {
      "text/plain": [
       "TensorShape([Dimension(64), Dimension(64), Dimension(3)])"
      ]
     },
     "execution_count": 64,
     "metadata": {},
     "output_type": "execute_result"
    },
    {
     "data": {
      "image/png": "[encoded data removed]",
      "text/plain": [
       "<Figure size 432x288 with 1 Axes>"
      ]
     },
     "metadata": {
      "needs_background": "light"
     },
     "output_type": "display_data"
    }
   ],
   "source": [
    "plt.imshow(img)\n",
    "img.shape"
   ]
  },
  {
   "cell_type": "markdown",
   "metadata": {},
   "source": [
    "### Exporting tfrecords "
   ]
  },
  {
   "cell_type": "markdown",
   "metadata": {},
   "source": [
    "Filename format will be:\n",
    "```\n",
    "{split}-r{log2(:02 resolution)}-s-{:04 chunk}-of-{:04 num_chunks}.tfrecords\n",
    "```"
   ]
  },
  {
   "cell_type": "code",
   "execution_count": 73,
   "metadata": {},
   "outputs": [],
   "source": [
    "EXPORT_DIR = os.path.join(DEEPFASHION_DIR, 'tfrecords64')\n",
    "TRAIN_DIR = os.path.join(EXPORT_DIR, 'train')\n",
    "VAL_DIR = os.path.join(EXPORT_DIR, 'validation')"
   ]
  },
  {
   "cell_type": "code",
   "execution_count": 74,
   "metadata": {},
   "outputs": [],
   "source": [
    "def get_filename(split, chunk, num_chunks, res):\n",
    "    return '{}-r{:02}-s-{:04}-of-{:04}.tfrecords'.format(split, int(np.log2(res)), chunk, num_chunks)"
   ]
  },
  {
   "cell_type": "code",
   "execution_count": 75,
   "metadata": {},
   "outputs": [],
   "source": [
    "def save_records(records, split, chunk, num_chunks, res=DEFAULT_SHAPE[0]):\n",
    "    path = os.path.join(EXPORT_DIR, split, get_filename(split, chunk, num_chunks, res))\n",
    "    with tf.python_io.TFRecordWriter(path) as writer:\n",
    "        for record in records:\n",
    "            writer.write(record)"
   ]
  },
  {
   "cell_type": "code",
   "execution_count": 77,
   "metadata": {},
   "outputs": [
    {
     "data": {
      "text/plain": [
       "'train-r06-s-0001-of-0010.tfrecords'"
      ]
     },
     "execution_count": 77,
     "metadata": {},
     "output_type": "execute_result"
    }
   ],
   "source": [
    "get_filename('train', 1, 10, IMAGE_SIZE)"
   ]
  },
  {
   "cell_type": "code",
   "execution_count": 78,
   "metadata": {},
   "outputs": [
    {
     "name": "stderr",
     "output_type": "stream",
     "text": [
      "100%|██████████| 264/264 [01:12<00:00,  3.62it/s]\n"
     ]
    }
   ],
   "source": [
    "for chunk in tqdm(range(len(train_img_chunks))):\n",
    "    records = [serialize_example(train_img_chunks[chunk][i], train_seg_chunks[chunk][i]) for i in range(len(train_img_chunks[chunk]))]\n",
    "    save_records(records, 'train', chunk, len(train_img_chunks))"
   ]
  },
  {
   "cell_type": "code",
   "execution_count": 79,
   "metadata": {},
   "outputs": [
    {
     "name": "stderr",
     "output_type": "stream",
     "text": [
      "100%|██████████| 88/88 [00:23<00:00,  3.69it/s]\n"
     ]
    }
   ],
   "source": [
    "for chunk in tqdm(range(len(test_img_chunks))):\n",
    "    records = [serialize_example(test_img_chunks[chunk][i], test_seg_chunks[chunk][i]) for i in range(len(test_img_chunks[chunk]))]\n",
    "    save_records(records, 'validation', chunk, len(test_img_chunks))"
   ]
  }
 ],
 "metadata": {
  "kernelspec": {
   "display_name": "Python 3",
   "language": "python",
   "name": "python3"
  },
  "language_info": {
   "codemirror_mode": {
    "name": "ipython",
    "version": 3
   },
   "file_extension": ".py",
   "mimetype": "text/x-python",
   "name": "python",
   "nbconvert_exporter": "python",
   "pygments_lexer": "ipython3",
   "version": "3.5.2"
  }
 },
 "nbformat": 4,
 "nbformat_minor": 4
}
