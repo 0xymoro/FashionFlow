{
 "cells": [
  {
   "cell_type": "code",
   "execution_count": 1,
   "metadata": {},
   "outputs": [],
   "source": [
    "import sys\n",
    "import pickle\n",
    "glow_dir = '/project/fashion-flow/glow-edited/'\n",
    "sys.path.append(glow_dir)\n",
    "import tensorflow as tf\n",
    "import os\n",
    "from train import *"
   ]
  },
  {
   "cell_type": "code",
   "execution_count": 2,
   "metadata": {},
   "outputs": [],
   "source": [
    "IMAGE_SIZE = 32"
   ]
  },
  {
   "cell_type": "code",
   "execution_count": 3,
   "metadata": {},
   "outputs": [],
   "source": [
    "logs_dir = os.path.join(glow_dir, 'logs')"
   ]
  },
  {
   "cell_type": "code",
   "execution_count": 4,
   "metadata": {},
   "outputs": [],
   "source": [
    "hvd.init()\n",
    "sess = tensorflow_session()"
   ]
  },
  {
   "cell_type": "code",
   "execution_count": 5,
   "metadata": {},
   "outputs": [],
   "source": [
    "with open(os.path.join(glow_dir, 'hps.pkl'), 'rb') as f:\n",
    "    hps = pickle.load(f)"
   ]
  },
  {
   "cell_type": "code",
   "execution_count": 6,
   "metadata": {},
   "outputs": [],
   "source": [
    "hps.restore_path = os.path.join(logs_dir, '32x32image_logs', 'epoch990.ckpt')\n",
    "hps.inference = True"
   ]
  },
  {
   "cell_type": "code",
   "execution_count": 7,
   "metadata": {},
   "outputs": [
    {
     "name": "stdout",
     "output_type": "stream",
     "text": [
      "Rank 0 Batch sizes Train 64 Test 50 Init 256\n"
     ]
    }
   ],
   "source": [
    "train_iterator, test_iterator, data_init = get_data(hps, sess)"
   ]
  },
  {
   "cell_type": "code",
   "execution_count": 8,
   "metadata": {},
   "outputs": [
    {
     "name": "stdout",
     "output_type": "stream",
     "text": [
      "20000 50 1\n",
      "Train epoch size: 1024\n"
     ]
    }
   ],
   "source": [
    "hps.train_its, hps.test_its, hps.full_test_its = get_its(hps)"
   ]
  },
  {
   "cell_type": "code",
   "execution_count": 9,
   "metadata": {},
   "outputs": [
    {
     "name": "stdout",
     "output_type": "stream",
     "text": [
      "Creating pad 1_1_18_18\n",
      "Creating pad 1_1_10_10\n",
      "Creating pad 1_1_6_6\n",
      "INFO:tensorflow:Restoring parameters from /project/fashion-flow/glow-edited/logs/32x32image_logs/epoch990.ckpt\n",
      "[<tf.Tensor 'model_3/pool0/truediv_1:0' shape=(?, 16, 16, 6) dtype=float32>, <tf.Tensor 'model_3/pool1/truediv_1:0' shape=(?, 8, 8, 12) dtype=float32>, <tf.Tensor 'model_3/truediv_2:0' shape=(?, 4, 4, 48) dtype=float32>]\n",
      "Tensor(\"model_3/pool0/truediv_1:0\", shape=(?, 16, 16, 6), dtype=float32)\n",
      "Tensor(\"model_3/pool1/truediv_1:0\", shape=(?, 8, 8, 12), dtype=float32)\n",
      "Tensor(\"model_3/truediv_2:0\", shape=(?, 4, 4, 48), dtype=float32)\n"
     ]
    }
   ],
   "source": [
    "import model\n",
    "model = model.model(sess, hps, train_iterator, test_iterator, data_init)"
   ]
  },
  {
   "cell_type": "code",
   "execution_count": 20,
   "metadata": {},
   "outputs": [],
   "source": [
    "import h5py\n",
    "PROJECT_DIR = '/project/fashion-flow'\n",
    "DATA_DIR = os.path.join(PROJECT_DIR, 'data')\n",
    "DEEPFASHION_DIR = os.path.join(DATA_DIR, 'DeepFashion', 'FashionSynthesis')\n",
    "f = h5py.File(os.path.join(DEEPFASHION_DIR, 'G2.h5'), 'r')\n",
    "segmentations_ds = f['b_']\n",
    "images_ds = f['ih']"
   ]
  },
  {
   "cell_type": "code",
   "execution_count": 21,
   "metadata": {},
   "outputs": [],
   "source": [
    "import cv2\n",
    "import matplotlib.pyplot as plt"
   ]
  },
  {
   "cell_type": "code",
   "execution_count": 22,
   "metadata": {},
   "outputs": [],
   "source": [
    "def resize_image(image, size=IMAGE_SIZE):\n",
    "    return cv2.resize(image, (size, size), interpolation = cv2.INTER_AREA)"
   ]
  },
  {
   "cell_type": "code",
   "execution_count": 23,
   "metadata": {},
   "outputs": [],
   "source": [
    "ghost = resize_image(f['ih_mean'].value.T)"
   ]
  },
  {
   "cell_type": "code",
   "execution_count": 24,
   "metadata": {},
   "outputs": [],
   "source": [
    "img1 = resize_image(images_ds[50].T) + ghost\n",
    "img1 = img1[None, :]\n",
    "\n",
    "y = np.zeros([1], dtype=np.int32)\n",
    "\n",
    "eps1 = model.encode(img1*255, y)"
   ]
  },
  {
   "cell_type": "code",
   "execution_count": 25,
   "metadata": {},
   "outputs": [],
   "source": [
    "img2 = resize_image(images_ds[30].T) + ghost\n",
    "img2 = img2[None, :]\n",
    "\n",
    "y = np.zeros([1], dtype=np.int32)\n",
    "\n",
    "eps2 = model.encode(img2*255, y)"
   ]
  },
  {
   "cell_type": "code",
   "execution_count": 16,
   "metadata": {},
   "outputs": [],
   "source": [
    "direction = eps2 - eps1"
   ]
  },
  {
   "cell_type": "code",
   "execution_count": 1,
   "metadata": {},
   "outputs": [
    {
     "ename": "NameError",
     "evalue": "name 'eps1' is not defined",
     "output_type": "error",
     "traceback": [
      "\u001b[0;31m---------------------------------------------------------------------------\u001b[0m",
      "\u001b[0;31mNameError\u001b[0m                                 Traceback (most recent call last)",
      "\u001b[0;32m<ipython-input-1-3bf709b1fb9c>\u001b[0m in \u001b[0;36m<module>\u001b[0;34m\u001b[0m\n\u001b[0;32m----> 1\u001b[0;31m \u001b[0meps1\u001b[0m\u001b[0;34m.\u001b[0m\u001b[0mshape\u001b[0m\u001b[0;34m\u001b[0m\u001b[0m\n\u001b[0m",
      "\u001b[0;31mNameError\u001b[0m: name 'eps1' is not defined"
     ]
    }
   ],
   "source": []
  },
  {
   "cell_type": "code",
   "execution_count": 17,
   "metadata": {},
   "outputs": [
    {
     "data": {
      "text/plain": [
       "array([[ 0.3060103 , -1.7723422 ,  2.7753506 , ..., -0.01893389,\n",
       "        -0.68756473, -0.01141724]], dtype=float32)"
      ]
     },
     "execution_count": 17,
     "metadata": {},
     "output_type": "execute_result"
    }
   ],
   "source": [
    "direction"
   ]
  },
  {
   "cell_type": "code",
   "execution_count": 18,
   "metadata": {},
   "outputs": [
    {
     "data": {
      "text/plain": [
       "<matplotlib.image.AxesImage at 0x7f34677b2be0>"
      ]
     },
     "execution_count": 18,
     "metadata": {},
     "output_type": "execute_result"
    },
    {
     "data": {
      "image/png": "[encoded data removed]",
      "text/plain": [
       "<Figure size 432x288 with 1 Axes>"
      ]
     },
     "metadata": {
      "needs_background": "light"
     },
     "output_type": "display_data"
    }
   ],
   "source": [
    "eps3 = eps1 + direction * .5\n",
    "x_hat = model.decode(y, eps3)\n",
    "\n",
    "x_hat[0].shape\n",
    "\n",
    "plt.imshow((x_hat[0]))"
   ]
  },
  {
   "cell_type": "code",
   "execution_count": 19,
   "metadata": {},
   "outputs": [
    {
     "data": {
      "image/png": "[encoded data removed]",
      "text/plain": [
       "<Figure size 1800x360 with 11 Axes>"
      ]
     },
     "metadata": {
      "needs_background": "light"
     },
     "output_type": "display_data"
    }
   ],
   "source": [
    "fig, axes = plt.subplots(1, 11, figsize=(25, 5))\n",
    "for i in range(11):\n",
    "    eps = eps1 + direction * i/10 \n",
    "    x_hat = model.decode(y, eps)\n",
    "    axes[i].set_title('{:.1f}'.format(i*.1))\n",
    "    axes[i].imshow(x_hat[0])\n",
    "    axes[i].axis('off')"
   ]
  },
  {
   "cell_type": "code",
   "execution_count": null,
   "metadata": {},
   "outputs": [],
   "source": []
  }
 ],
 "metadata": {
  "kernelspec": {
   "display_name": "Python 3",
   "language": "python",
   "name": "python3"
  },
  "language_info": {
   "codemirror_mode": {
    "name": "ipython",
    "version": 3
   },
   "file_extension": ".py",
   "mimetype": "text/x-python",
   "name": "python",
   "nbconvert_exporter": "python",
   "pygments_lexer": "ipython3",
   "version": "3.7.4"
  }
 },
 "nbformat": 4,
 "nbformat_minor": 4
}
