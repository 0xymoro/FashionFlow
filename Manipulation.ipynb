{
 "cells": [
  {
   "cell_type": "code",
   "execution_count": 155,
   "metadata": {},
   "outputs": [],
   "source": [
    "import sys\n",
    "import pickle\n",
    "glow_dir = '/project/fashion-flow/glow-edited/'\n",
    "sys.path.append(glow_dir)\n",
    "import tensorflow as tf\n",
    "import os\n",
    "from train import *"
   ]
  },
  {
   "cell_type": "code",
   "execution_count": 3,
   "metadata": {},
   "outputs": [],
   "source": [
    "IMAGE_SIZE = 32"
   ]
  },
  {
   "cell_type": "code",
   "execution_count": 4,
   "metadata": {},
   "outputs": [],
   "source": [
    "logs_dir = os.path.join(glow_dir, 'logs')"
   ]
  },
  {
   "cell_type": "code",
   "execution_count": 5,
   "metadata": {},
   "outputs": [],
   "source": [
    "hvd.init()\n",
    "sess = tensorflow_session()"
   ]
  },
  {
   "cell_type": "code",
   "execution_count": 6,
   "metadata": {},
   "outputs": [],
   "source": [
    "with open(os.path.join(glow_dir, 'hps.pkl'), 'rb') as f:\n",
    "    hps = pickle.load(f)"
   ]
  },
  {
   "cell_type": "code",
   "execution_count": 7,
   "metadata": {},
   "outputs": [],
   "source": [
    "hps.restore_path = os.path.join(logs_dir, '32x32image_logs', 'epoch990.ckpt')\n",
    "hps.inference = True"
   ]
  },
  {
   "cell_type": "code",
   "execution_count": 8,
   "metadata": {},
   "outputs": [
    {
     "name": "stdout",
     "output_type": "stream",
     "text": [
      "Rank 0 Batch sizes Train 64 Test 50 Init 256\n"
     ]
    }
   ],
   "source": [
    "train_iterator, test_iterator, data_init = get_data(hps, sess)"
   ]
  },
  {
   "cell_type": "code",
   "execution_count": 9,
   "metadata": {},
   "outputs": [
    {
     "name": "stdout",
     "output_type": "stream",
     "text": [
      "20000 50 1\n",
      "Train epoch size: 1024\n"
     ]
    }
   ],
   "source": [
    "hps.train_its, hps.test_its, hps.full_test_its = get_its(hps)"
   ]
  },
  {
   "cell_type": "code",
   "execution_count": 10,
   "metadata": {},
   "outputs": [
    {
     "name": "stdout",
     "output_type": "stream",
     "text": [
      "Creating pad 1_1_18_18\n",
      "Creating pad 1_1_10_10\n",
      "Creating pad 1_1_6_6\n",
      "INFO:tensorflow:Restoring parameters from /project/fashion-flow/glow-edited/logs/32x32image_logs/epoch990.ckpt\n",
      "[<tf.Tensor 'model_3/pool0/truediv_1:0' shape=(?, 16, 16, 6) dtype=float32>, <tf.Tensor 'model_3/pool1/truediv_1:0' shape=(?, 8, 8, 12) dtype=float32>, <tf.Tensor 'model_3/truediv_2:0' shape=(?, 4, 4, 48) dtype=float32>]\n",
      "Tensor(\"model_3/pool0/truediv_1:0\", shape=(?, 16, 16, 6), dtype=float32)\n",
      "Tensor(\"model_3/pool1/truediv_1:0\", shape=(?, 8, 8, 12), dtype=float32)\n",
      "Tensor(\"model_3/truediv_2:0\", shape=(?, 4, 4, 48), dtype=float32)\n"
     ]
    }
   ],
   "source": [
    "import model\n",
    "model = model.model(sess, hps, train_iterator, test_iterator, data_init)"
   ]
  },
  {
   "cell_type": "code",
   "execution_count": 11,
   "metadata": {},
   "outputs": [],
   "source": [
    "import h5py\n",
    "PROJECT_DIR = '/project/fashion-flow'\n",
    "DATA_DIR = os.path.join(PROJECT_DIR, 'data')\n",
    "DEEPFASHION_DIR = os.path.join(DATA_DIR, 'DeepFashion', 'FashionSynthesis')\n",
    "f = h5py.File(os.path.join(DEEPFASHION_DIR, 'G2.h5'), 'r')\n",
    "segmentations_ds = f['b_']\n",
    "images_ds = f['ih']"
   ]
  },
  {
   "cell_type": "code",
   "execution_count": 154,
   "metadata": {},
   "outputs": [],
   "source": [
    "import cv2\n",
    "import matplotlib.pyplot as plt"
   ]
  },
  {
   "cell_type": "code",
   "execution_count": 13,
   "metadata": {},
   "outputs": [],
   "source": [
    "def resize_image(image, size=IMAGE_SIZE):\n",
    "    return cv2.resize(image, (size, size), interpolation = cv2.INTER_AREA)"
   ]
  },
  {
   "cell_type": "code",
   "execution_count": 14,
   "metadata": {},
   "outputs": [
    {
     "name": "stderr",
     "output_type": "stream",
     "text": [
      "/root/anaconda3/envs/glow/lib/python3.6/site-packages/ipykernel_launcher.py:1: H5pyDeprecationWarning: dataset.value has been deprecated. Use dataset[()] instead.\n",
      "  \"\"\"Entry point for launching an IPython kernel.\n"
     ]
    }
   ],
   "source": [
    "ghost = resize_image(f['ih_mean'].value.T)"
   ]
  },
  {
   "cell_type": "markdown",
   "metadata": {},
   "source": [
    "#### Manually getting labels for white top and black top"
   ]
  },
  {
   "cell_type": "code",
   "execution_count": 15,
   "metadata": {},
   "outputs": [],
   "source": [
    "blues = [3, 12, 38, 32, 68, 140, 145, 150, 263, 306, 394, 411, 444, 451, 454, 509, 524, \n",
    "         520, 518, 537, 544, 532, 586, 602, 635, 636, 647]\n",
    "reds = [13, 49, 61, 56, 74, 101, 171, 189, 196, 217, 290, 285, 341, 414, 415, 424, 428, \n",
    "        434, 458, 462, 471, 476, 542, 578, 624, 651, 663]\n",
    "greens = [127, 229, 265, 437, 528, 558, 552, 594, 646, 780, 788, 879, 953, 1034]"
   ]
  },
  {
   "cell_type": "code",
   "execution_count": 16,
   "metadata": {},
   "outputs": [],
   "source": [
    "def get_average_embedding(ixx, model, input_shape=(32,32,3)):\n",
    "    embeddings = np.zeros((len(ixx), np.product(input_shape)))\n",
    "    for idx, ix in enumerate(ixx):\n",
    "        img = resize_image(images_ds[ix].T) + ghost\n",
    "        img = img[None, :]\n",
    "        y = np.zeros([1], dtype=np.int32)\n",
    "        emb = model.encode(img*255, y)\n",
    "        embeddings[idx,:] = emb\n",
    "    return np.mean(embeddings, 0)"
   ]
  },
  {
   "cell_type": "code",
   "execution_count": 17,
   "metadata": {},
   "outputs": [],
   "source": [
    "avg_blue = get_average_embedding(blues,model)"
   ]
  },
  {
   "cell_type": "code",
   "execution_count": 20,
   "metadata": {},
   "outputs": [],
   "source": [
    "def get_negative_labels(labels):\n",
    "    set_labels = set(labels)\n",
    "    set_others = set(range(0,200)) - set_labels\n",
    "    other_labels = np.array(list(set_others))\n",
    "    return other_labels"
   ]
  },
  {
   "cell_type": "code",
   "execution_count": 22,
   "metadata": {},
   "outputs": [],
   "source": [
    "avg_negative_blues = get_negative_labels(blues)\n",
    "avg_negative_blues = get_average_embedding(avg_negative_blues,model)"
   ]
  },
  {
   "cell_type": "code",
   "execution_count": 23,
   "metadata": {},
   "outputs": [],
   "source": [
    "avg_red = get_average_embedding(reds,model)"
   ]
  },
  {
   "cell_type": "code",
   "execution_count": 24,
   "metadata": {},
   "outputs": [],
   "source": [
    "avg_negative_reds = get_negative_labels(reds)\n",
    "avg_negative_reds = get_average_embedding(avg_negative_reds,model)"
   ]
  },
  {
   "cell_type": "code",
   "execution_count": 25,
   "metadata": {},
   "outputs": [],
   "source": [
    "avg_greens = get_average_embedding(greens,model)"
   ]
  },
  {
   "cell_type": "code",
   "execution_count": 26,
   "metadata": {},
   "outputs": [],
   "source": [
    "avg_negative_greens = get_negative_labels(greens)\n",
    "avg_negative_greens = get_average_embedding(avg_negative_greens,model)"
   ]
  },
  {
   "cell_type": "code",
   "execution_count": 27,
   "metadata": {},
   "outputs": [],
   "source": [
    "red_direction = avg_red - avg_negative_reds\n",
    "blue_direction = avg_blue - avg_negative_blues\n",
    "green_direction = avg_greens - avg_negative_greens"
   ]
  },
  {
   "cell_type": "code",
   "execution_count": 28,
   "metadata": {},
   "outputs": [],
   "source": [
    "np.save('red_direction.npy', red_direction)\n",
    "np.save('blue_direction.npy', blue_direction)\n",
    "np.save('green_direction.npy', green_direction)"
   ]
  },
  {
   "cell_type": "code",
   "execution_count": 29,
   "metadata": {},
   "outputs": [
    {
     "name": "stderr",
     "output_type": "stream",
     "text": [
      "Clipping input data to the valid range for imshow with RGB data ([0..1] for floats or [0..255] for integers).\n"
     ]
    },
    {
     "data": {
      "image/png": "[encoded data removed]",
      "text/plain": [
       "<Figure size 432x288 with 1 Axes>"
      ]
     },
     "metadata": {
      "needs_background": "light"
     },
     "output_type": "display_data"
    }
   ],
   "source": [
    "img1 = resize_image(images_ds[30].T) + ghost\n",
    "plt.imshow(img1)\n",
    "img1 = img1[None, :]\n",
    "\n",
    "y = np.zeros([1], dtype=np.int32)\n",
    "\n",
    "eps1 = model.encode(img1*255, y)"
   ]
  },
  {
   "cell_type": "code",
   "execution_count": 30,
   "metadata": {},
   "outputs": [
    {
     "data": {
      "text/plain": [
       "array([[-1.7576221 ,  0.81702644,  2.3949578 , ...,  0.2968144 ,\n",
       "        -0.35374132, -0.63563466]], dtype=float32)"
      ]
     },
     "execution_count": 30,
     "metadata": {},
     "output_type": "execute_result"
    }
   ],
   "source": [
    "eps1"
   ]
  },
  {
   "cell_type": "code",
   "execution_count": 31,
   "metadata": {},
   "outputs": [
    {
     "ename": "NameError",
     "evalue": "name 'white_top_direction' is not defined",
     "output_type": "error",
     "traceback": [
      "\u001b[0;31m---------------------------------------------------------------------------\u001b[0m",
      "\u001b[0;31mNameError\u001b[0m                                 Traceback (most recent call last)",
      "\u001b[0;32m<ipython-input-31-3233c12e016e>\u001b[0m in \u001b[0;36m<module>\u001b[0;34m\u001b[0m\n\u001b[0;32m----> 1\u001b[0;31m \u001b[0meps_white\u001b[0m \u001b[0;34m=\u001b[0m \u001b[0meps1\u001b[0m \u001b[0;34m+\u001b[0m \u001b[0mnp\u001b[0m\u001b[0;34m.\u001b[0m\u001b[0mmean\u001b[0m\u001b[0;34m(\u001b[0m\u001b[0;34m[\u001b[0m\u001b[0mgreen_direction\u001b[0m\u001b[0;34m,\u001b[0m \u001b[0mblue_direction\u001b[0m\u001b[0;34m,\u001b[0m \u001b[0mred_direction\u001b[0m\u001b[0;34m]\u001b[0m\u001b[0;34m,\u001b[0m \u001b[0maxis\u001b[0m\u001b[0;34m=\u001b[0m\u001b[0;36m0\u001b[0m\u001b[0;34m)\u001b[0m\u001b[0;34m*\u001b[0m\u001b[0;36m3\u001b[0m \u001b[0;34m+\u001b[0m \u001b[0mwhite_top_direction\u001b[0m\u001b[0;34m*\u001b[0m\u001b[0;36m1.5\u001b[0m\u001b[0;34m\u001b[0m\u001b[0;34m\u001b[0m\u001b[0m\n\u001b[0m\u001b[1;32m      2\u001b[0m \u001b[0;34m\u001b[0m\u001b[0m\n\u001b[1;32m      3\u001b[0m \u001b[0;31m# eps_white = eps1+np.max([green_direction, red_direction, blue_direction], axis=0)\u001b[0m\u001b[0;34m\u001b[0m\u001b[0;34m\u001b[0m\u001b[0;34m\u001b[0m\u001b[0m\n\u001b[1;32m      4\u001b[0m \u001b[0mx_hat\u001b[0m \u001b[0;34m=\u001b[0m \u001b[0mmodel\u001b[0m\u001b[0;34m.\u001b[0m\u001b[0mdecode\u001b[0m\u001b[0;34m(\u001b[0m\u001b[0my\u001b[0m\u001b[0;34m,\u001b[0m \u001b[0meps_white\u001b[0m\u001b[0;34m)\u001b[0m\u001b[0;34m\u001b[0m\u001b[0;34m\u001b[0m\u001b[0m\n\u001b[1;32m      5\u001b[0m \u001b[0;34m\u001b[0m\u001b[0m\n",
      "\u001b[0;31mNameError\u001b[0m: name 'white_top_direction' is not defined"
     ]
    }
   ],
   "source": [
    "eps_white = eps1 + np.mean([green_direction, blue_direction, red_direction], axis=0)*3 + white_top_direction*1.5\n",
    "\n",
    "# eps_white = eps1+np.max([green_direction, red_direction, blue_direction], axis=0)\n",
    "x_hat = model.decode(y, eps_white)\n",
    "\n",
    "x_hat[0].shape\n",
    "\n",
    "plt.imshow((x_hat[0]))"
   ]
  },
  {
   "cell_type": "code",
   "execution_count": null,
   "metadata": {},
   "outputs": [],
   "source": [
    "eps_white = eps1 + red_direction*1 - (white_top_direction*0) + blue_direction*1 + green_direction*1 + white_top_direction*1.2\n",
    "x_hat = model.decode(y, eps_white)\n",
    "\n",
    "x_hat[0].shape\n",
    "\n",
    "plt.imshow((x_hat[0]))\n",
    "plt.imsave(\"red_transformation.png\",x_hat[0])"
   ]
  },
  {
   "cell_type": "markdown",
   "metadata": {},
   "source": [
    "# num_rows = 5\n",
    "num_cols = 5\n",
    "offset = 125\n",
    "fig, axes = plt.subplots(num_rows, num_rows, figsize=(25, 25))\n",
    "for i in range(num_rows):\n",
    "    for j in range(num_cols):\n",
    "        index = i * num_rows + j + offset\n",
    "        img = resize_image(images_ds[index].T) + ghost\n",
    "        axes[i, j].set_title('{}'.format(index))\n",
    "        axes[i, j].imshow(img)"
   ]
  },
  {
   "cell_type": "code",
   "execution_count": null,
   "metadata": {},
   "outputs": [],
   "source": []
  },
  {
   "cell_type": "code",
   "execution_count": 87,
   "metadata": {},
   "outputs": [
    {
     "name": "stderr",
     "output_type": "stream",
     "text": [
      "Clipping input data to the valid range for imshow with RGB data ([0..1] for floats or [0..255] for integers).\n",
      "Clipping input data to the valid range for imshow with RGB data ([0..1] for floats or [0..255] for integers).\n",
      "Clipping input data to the valid range for imshow with RGB data ([0..1] for floats or [0..255] for integers).\n",
      "Clipping input data to the valid range for imshow with RGB data ([0..1] for floats or [0..255] for integers).\n",
      "Clipping input data to the valid range for imshow with RGB data ([0..1] for floats or [0..255] for integers).\n",
      "Clipping input data to the valid range for imshow with RGB data ([0..1] for floats or [0..255] for integers).\n",
      "Clipping input data to the valid range for imshow with RGB data ([0..1] for floats or [0..255] for integers).\n",
      "Clipping input data to the valid range for imshow with RGB data ([0..1] for floats or [0..255] for integers).\n",
      "Clipping input data to the valid range for imshow with RGB data ([0..1] for floats or [0..255] for integers).\n",
      "Clipping input data to the valid range for imshow with RGB data ([0..1] for floats or [0..255] for integers).\n",
      "Clipping input data to the valid range for imshow with RGB data ([0..1] for floats or [0..255] for integers).\n",
      "Clipping input data to the valid range for imshow with RGB data ([0..1] for floats or [0..255] for integers).\n",
      "Clipping input data to the valid range for imshow with RGB data ([0..1] for floats or [0..255] for integers).\n",
      "Clipping input data to the valid range for imshow with RGB data ([0..1] for floats or [0..255] for integers).\n",
      "Clipping input data to the valid range for imshow with RGB data ([0..1] for floats or [0..255] for integers).\n",
      "Clipping input data to the valid range for imshow with RGB data ([0..1] for floats or [0..255] for integers).\n",
      "Clipping input data to the valid range for imshow with RGB data ([0..1] for floats or [0..255] for integers).\n"
     ]
    },
    {
     "name": "stdout",
     "output_type": "stream",
     "text": [
      "21\n"
     ]
    },
    {
     "data": {
      "image/png": "[encoded data removed]",
      "text/plain": [
       "<Figure size 1800x360 with 21 Axes>"
      ]
     },
     "metadata": {
      "needs_background": "light"
     },
     "output_type": "display_data"
    }
   ],
   "source": [
    "fig, axes = plt.subplots(1, 21, figsize=(25, 5))\n",
    "for i in range(61,81):\n",
    "    img1 = resize_image(images_ds[i].T) + ghost\n",
    "    axes[i-61].set_title('{}'.format(i))\n",
    "    axes[i-61].imshow(img1)\n",
    "    axes[i-61].axis('off')\n",
    "    \n",
    "white_labels = np.array([1,2,8,15,30,33,39,41,42,45,51,54,60,64,65,72,75,76,77,79])\n",
    "black_labels = np.array([0,7,16,20,27,29,31,36,37,43,46,50,57,58])\n",
    "tanktop_labels = np.array([22,28,45,32,54,68,69,76,92,93,98,99,100,102,113,114,115,118,123,127,138])\n",
    "print(len(tanktop_labels))\n",
    "\n",
    "\n",
    "    "
   ]
  },
  {
   "cell_type": "markdown",
   "metadata": {},
   "source": [
    "#### Getting average encoding for 'top is white' labels"
   ]
  },
  {
   "cell_type": "code",
   "execution_count": 88,
   "metadata": {},
   "outputs": [],
   "source": [
    "img1 = img1[None,:]\n",
    "y = np.zeros([1],dtype=np.int32)\n",
    "eps1 = model.encode(img1*255,y)"
   ]
  },
  {
   "cell_type": "code",
   "execution_count": 89,
   "metadata": {},
   "outputs": [
    {
     "data": {
      "text/plain": [
       "(1, 3072)"
      ]
     },
     "execution_count": 89,
     "metadata": {},
     "output_type": "execute_result"
    }
   ],
   "source": [
    "eps1.shape"
   ]
  },
  {
   "cell_type": "code",
   "execution_count": 90,
   "metadata": {},
   "outputs": [],
   "source": [
    "num_whites = white_labels.shape[0]\n",
    "white_encodings = np.zeros((num_whites,eps1.shape[1]))\n",
    "\n",
    "for idx,label_idx in enumerate(white_labels):\n",
    "\n",
    "    img_white = resize_image(images_ds[label_idx].T) + ghost\n",
    "    img_white = img_white[None, :]\n",
    "\n",
    "    y = np.zeros([1], dtype=np.int32)\n",
    "\n",
    "    emb = model.encode(img_white*255, y)\n",
    "    white_encodings[idx,:] = emb"
   ]
  },
  {
   "cell_type": "code",
   "execution_count": 91,
   "metadata": {},
   "outputs": [],
   "source": [
    "white_encodings_avg = np.mean(white_encodings,0)"
   ]
  },
  {
   "cell_type": "markdown",
   "metadata": {},
   "source": [
    "#### Getting average encoding for negative examples (with respect to 'top is white')"
   ]
  },
  {
   "cell_type": "code",
   "execution_count": 92,
   "metadata": {},
   "outputs": [],
   "source": [
    "set_whites = set(white_labels)\n",
    "set_others = set(range(0,81)) - set_whites\n",
    "non_white_labels = np.array(list(set_others))"
   ]
  },
  {
   "cell_type": "code",
   "execution_count": 93,
   "metadata": {},
   "outputs": [
    {
     "data": {
      "text/plain": [
       "array([ 0,  3,  4,  5,  6,  7,  9, 10, 11, 12, 13, 14, 16, 17, 18, 19, 20,\n",
       "       21, 22, 23, 24, 25, 26, 27, 28, 29, 31, 32, 34, 35, 36, 37, 38, 40,\n",
       "       43, 44, 46, 47, 48, 49, 50, 52, 53, 55, 56, 57, 58, 59, 61, 62, 63,\n",
       "       66, 67, 68, 69, 70, 71, 73, 74, 78, 80])"
      ]
     },
     "execution_count": 93,
     "metadata": {},
     "output_type": "execute_result"
    }
   ],
   "source": [
    "non_white_labels"
   ]
  },
  {
   "cell_type": "code",
   "execution_count": 94,
   "metadata": {},
   "outputs": [],
   "source": [
    "\n",
    "num_non_whites = non_white_labels.shape[0]\n",
    "non_white_encodings = np.zeros((num_non_whites,eps1.shape[1]))\n",
    "\n",
    "for idx,label_idx in enumerate(non_white_labels):\n",
    "\n",
    "    img_non_white = resize_image(images_ds[label_idx].T) + ghost\n",
    "    img_non_white = img_non_white[None, :]\n",
    "\n",
    "    y = np.zeros([1], dtype=np.int32)\n",
    "\n",
    "    emb = model.encode(img_non_white*255, y)\n",
    "    non_white_encodings[idx,:] = emb"
   ]
  },
  {
   "cell_type": "code",
   "execution_count": 95,
   "metadata": {},
   "outputs": [],
   "source": [
    "non_white_encodings_avg = np.mean(non_white_encodings,0)"
   ]
  },
  {
   "cell_type": "code",
   "execution_count": 96,
   "metadata": {},
   "outputs": [],
   "source": [
    "white_top_direction = white_encodings_avg - non_white_encodings_avg "
   ]
  },
  {
   "cell_type": "code",
   "execution_count": 97,
   "metadata": {},
   "outputs": [
    {
     "data": {
      "text/plain": [
       "array([ 0.4827183 , -0.20933849, -0.10609876, ...,  0.40436924,\n",
       "       -0.06424783,  0.33373528])"
      ]
     },
     "execution_count": 97,
     "metadata": {},
     "output_type": "execute_result"
    }
   ],
   "source": [
    "white_top_direction"
   ]
  },
  {
   "cell_type": "markdown",
   "metadata": {},
   "source": [
    "#### Trying out manipulations"
   ]
  },
  {
   "cell_type": "code",
   "execution_count": 98,
   "metadata": {},
   "outputs": [],
   "source": [
    "np.save('white_top_direction.npy', white_top_direction)"
   ]
  },
  {
   "cell_type": "code",
   "execution_count": 151,
   "metadata": {},
   "outputs": [
    {
     "data": {
      "image/png": "[encoded data removed]",
      "text/plain": [
       "<Figure size 432x288 with 1 Axes>"
      ]
     },
     "metadata": {
      "needs_background": "light"
     },
     "output_type": "display_data"
    }
   ],
   "source": [
    "img1 = resize_image(images_ds[108].T) + ghost\n",
    "plt.imshow(img1)\n",
    "img1 = img1[None, :]\n",
    "\n",
    "y = np.zeros([1], dtype=np.int32)\n",
    "\n",
    "eps1 = model.encode(img1*255, y)"
   ]
  },
  {
   "cell_type": "code",
   "execution_count": 152,
   "metadata": {},
   "outputs": [
    {
     "data": {
      "text/plain": [
       "<matplotlib.image.AxesImage at 0x7f95fef1a908>"
      ]
     },
     "execution_count": 152,
     "metadata": {},
     "output_type": "execute_result"
    },
    {
     "data": {
      "image/png": "[encoded data removed]",
      "text/plain": [
       "<Figure size 432x288 with 1 Axes>"
      ]
     },
     "metadata": {
      "needs_background": "light"
     },
     "output_type": "display_data"
    }
   ],
   "source": [
    "eps_white = eps1 + white_top_direction * -1.5\n",
    "x_hat = model.decode(y, eps_white)\n",
    "\n",
    "x_hat[0].shape\n",
    "\n",
    "plt.imshow((x_hat[0]))"
   ]
  },
  {
   "cell_type": "code",
   "execution_count": 153,
   "metadata": {},
   "outputs": [
    {
     "data": {
      "image/png": "[encoded data removed]",
      "text/plain": [
       "<Figure size 1800x360 with 6 Axes>"
      ]
     },
     "metadata": {
      "needs_background": "light"
     },
     "output_type": "display_data"
    }
   ],
   "source": [
    "fig, axes = plt.subplots(1, 6, figsize=(25, 5))\n",
    "for i in range(6):\n",
    "    eps = eps1 + white_top_direction * i/2.5\n",
    "    x_hat = model.decode(y, eps)\n",
    "    axes[i].set_title('{:.1f}'.format(i*.4))\n",
    "    axes[i].imshow(x_hat[0])\n",
    "    axes[i].axis('off')"
   ]
  },
  {
   "cell_type": "code",
   "execution_count": 47,
   "metadata": {},
   "outputs": [
    {
     "data": {
      "text/plain": [
       "<matplotlib.image.AxesImage at 0x7f961d57e128>"
      ]
     },
     "execution_count": 47,
     "metadata": {},
     "output_type": "execute_result"
    },
    {
     "data": {
      "image/png": "[encoded data removed]",
      "text/plain": [
       "<Figure size 432x288 with 1 Axes>"
      ]
     },
     "metadata": {
      "needs_background": "light"
     },
     "output_type": "display_data"
    }
   ],
   "source": [
    "img1 = resize_image(images_ds[50].T) + ghost\n",
    "img1 = img1[None, :]\n",
    "\n",
    "y = np.zeros([1], dtype=np.int32)\n",
    "\n",
    "eps1 = model.encode(img1*255, y)\n",
    "\n",
    "img2 = resize_image(images_ds[30].T) + ghost\n",
    "img2 = img2[None, :]\n",
    "\n",
    "y = np.zeros([1], dtype=np.int32)\n",
    "\n",
    "eps2 = model.encode(img2*255, y)\n",
    "\n",
    "direction = eps2 - eps1\n",
    "eps3 = eps1 + direction * .5\n",
    "x_hat = model.decode(y, eps3)\n",
    "\n",
    "x_hat[0].shape\n",
    "\n",
    "plt.imshow((x_hat[0]))"
   ]
  },
  {
   "cell_type": "code",
   "execution_count": 48,
   "metadata": {},
   "outputs": [
    {
     "data": {
      "image/png": "[encoded data removed]",
      "text/plain": [
       "<Figure size 1800x360 with 6 Axes>"
      ]
     },
     "metadata": {
      "needs_background": "light"
     },
     "output_type": "display_data"
    }
   ],
   "source": [
    "fig, axes = plt.subplots(1, 6,figsize=(25, 5))\n",
    "for i in range(6):\n",
    "    eps = eps1 + direction * i/5 \n",
    "    x_hat = model.decode(y, eps)\n",
    "    axes[i].set_title('{:.1f}'.format(i*.2))\n",
    "    axes[i].imshow(x_hat[0])\n",
    "    axes[i].axis('off')"
   ]
  },
  {
   "cell_type": "code",
   "execution_count": null,
   "metadata": {},
   "outputs": [],
   "source": []
  },
  {
   "cell_type": "code",
   "execution_count": 102,
   "metadata": {},
   "outputs": [
    {
     "ename": "ValueError",
     "evalue": "Cannot feed value of shape (1, 1, 32, 32, 3) for Tensor 'input/image:0', which has shape '(?, 32, 32, 3)'",
     "output_type": "error",
     "traceback": [
      "\u001b[0;31m---------------------------------------------------------------------------\u001b[0m",
      "\u001b[0;31mValueError\u001b[0m                                Traceback (most recent call last)",
      "\u001b[0;32m<ipython-input-102-f27d01ff2803>\u001b[0m in \u001b[0;36m<module>\u001b[0;34m\u001b[0m\n\u001b[1;32m      1\u001b[0m \u001b[0mimg1\u001b[0m \u001b[0;34m=\u001b[0m \u001b[0mimg1\u001b[0m\u001b[0;34m[\u001b[0m\u001b[0;32mNone\u001b[0m\u001b[0;34m,\u001b[0m\u001b[0;34m:\u001b[0m\u001b[0;34m]\u001b[0m\u001b[0;34m\u001b[0m\u001b[0;34m\u001b[0m\u001b[0m\n\u001b[1;32m      2\u001b[0m \u001b[0my\u001b[0m \u001b[0;34m=\u001b[0m \u001b[0mnp\u001b[0m\u001b[0;34m.\u001b[0m\u001b[0mzeros\u001b[0m\u001b[0;34m(\u001b[0m\u001b[0;34m[\u001b[0m\u001b[0;36m1\u001b[0m\u001b[0;34m]\u001b[0m\u001b[0;34m,\u001b[0m\u001b[0mdtype\u001b[0m\u001b[0;34m=\u001b[0m\u001b[0mnp\u001b[0m\u001b[0;34m.\u001b[0m\u001b[0mint32\u001b[0m\u001b[0;34m)\u001b[0m\u001b[0;34m\u001b[0m\u001b[0;34m\u001b[0m\u001b[0m\n\u001b[0;32m----> 3\u001b[0;31m \u001b[0meps1\u001b[0m \u001b[0;34m=\u001b[0m \u001b[0mmodel\u001b[0m\u001b[0;34m.\u001b[0m\u001b[0mencode\u001b[0m\u001b[0;34m(\u001b[0m\u001b[0mimg1\u001b[0m\u001b[0;34m*\u001b[0m\u001b[0;36m255\u001b[0m\u001b[0;34m,\u001b[0m\u001b[0my\u001b[0m\u001b[0;34m)\u001b[0m\u001b[0;34m\u001b[0m\u001b[0;34m\u001b[0m\u001b[0m\n\u001b[0m",
      "\u001b[0;32m/project/fashion-flow/glow-edited/model.py\u001b[0m in \u001b[0;36mencode\u001b[0;34m(x, y)\u001b[0m\n\u001b[1;32m    304\u001b[0m         \u001b[0;31m# If model is uncondtional, always pass y = np.zeros([bs], dtype=np.int32)\u001b[0m\u001b[0;34m\u001b[0m\u001b[0;34m\u001b[0m\u001b[0;34m\u001b[0m\u001b[0m\n\u001b[1;32m    305\u001b[0m         \u001b[0;32mdef\u001b[0m \u001b[0mencode\u001b[0m\u001b[0;34m(\u001b[0m\u001b[0mx\u001b[0m\u001b[0;34m,\u001b[0m \u001b[0my\u001b[0m\u001b[0;34m)\u001b[0m\u001b[0;34m:\u001b[0m\u001b[0;34m\u001b[0m\u001b[0;34m\u001b[0m\u001b[0m\n\u001b[0;32m--> 306\u001b[0;31m             \u001b[0;32mreturn\u001b[0m \u001b[0mflatten_eps\u001b[0m\u001b[0;34m(\u001b[0m\u001b[0msess\u001b[0m\u001b[0;34m.\u001b[0m\u001b[0mrun\u001b[0m\u001b[0;34m(\u001b[0m\u001b[0menc_eps\u001b[0m\u001b[0;34m,\u001b[0m \u001b[0;34m{\u001b[0m\u001b[0mX\u001b[0m\u001b[0;34m:\u001b[0m \u001b[0mx\u001b[0m\u001b[0;34m,\u001b[0m \u001b[0mY\u001b[0m\u001b[0;34m:\u001b[0m \u001b[0my\u001b[0m\u001b[0;34m}\u001b[0m\u001b[0;34m)\u001b[0m\u001b[0;34m)\u001b[0m\u001b[0;34m\u001b[0m\u001b[0;34m\u001b[0m\u001b[0m\n\u001b[0m\u001b[1;32m    307\u001b[0m \u001b[0;34m\u001b[0m\u001b[0m\n\u001b[1;32m    308\u001b[0m         \u001b[0;32mdef\u001b[0m \u001b[0mdecode\u001b[0m\u001b[0;34m(\u001b[0m\u001b[0my\u001b[0m\u001b[0;34m,\u001b[0m \u001b[0mfeps\u001b[0m\u001b[0;34m)\u001b[0m\u001b[0;34m:\u001b[0m\u001b[0;34m\u001b[0m\u001b[0;34m\u001b[0m\u001b[0m\n",
      "\u001b[0;32m~/anaconda3/envs/glow/lib/python3.6/site-packages/tensorflow/python/client/session.py\u001b[0m in \u001b[0;36mrun\u001b[0;34m(self, fetches, feed_dict, options, run_metadata)\u001b[0m\n\u001b[1;32m    898\u001b[0m     \u001b[0;32mtry\u001b[0m\u001b[0;34m:\u001b[0m\u001b[0;34m\u001b[0m\u001b[0;34m\u001b[0m\u001b[0m\n\u001b[1;32m    899\u001b[0m       result = self._run(None, fetches, feed_dict, options_ptr,\n\u001b[0;32m--> 900\u001b[0;31m                          run_metadata_ptr)\n\u001b[0m\u001b[1;32m    901\u001b[0m       \u001b[0;32mif\u001b[0m \u001b[0mrun_metadata\u001b[0m\u001b[0;34m:\u001b[0m\u001b[0;34m\u001b[0m\u001b[0;34m\u001b[0m\u001b[0m\n\u001b[1;32m    902\u001b[0m         \u001b[0mproto_data\u001b[0m \u001b[0;34m=\u001b[0m \u001b[0mtf_session\u001b[0m\u001b[0;34m.\u001b[0m\u001b[0mTF_GetBuffer\u001b[0m\u001b[0;34m(\u001b[0m\u001b[0mrun_metadata_ptr\u001b[0m\u001b[0;34m)\u001b[0m\u001b[0;34m\u001b[0m\u001b[0;34m\u001b[0m\u001b[0m\n",
      "\u001b[0;32m~/anaconda3/envs/glow/lib/python3.6/site-packages/tensorflow/python/client/session.py\u001b[0m in \u001b[0;36m_run\u001b[0;34m(self, handle, fetches, feed_dict, options, run_metadata)\u001b[0m\n\u001b[1;32m   1109\u001b[0m                              \u001b[0;34m'which has shape %r'\u001b[0m \u001b[0;34m%\u001b[0m\u001b[0;34m\u001b[0m\u001b[0;34m\u001b[0m\u001b[0m\n\u001b[1;32m   1110\u001b[0m                              (np_val.shape, subfeed_t.name,\n\u001b[0;32m-> 1111\u001b[0;31m                               str(subfeed_t.get_shape())))\n\u001b[0m\u001b[1;32m   1112\u001b[0m           \u001b[0;32mif\u001b[0m \u001b[0;32mnot\u001b[0m \u001b[0mself\u001b[0m\u001b[0;34m.\u001b[0m\u001b[0mgraph\u001b[0m\u001b[0;34m.\u001b[0m\u001b[0mis_feedable\u001b[0m\u001b[0;34m(\u001b[0m\u001b[0msubfeed_t\u001b[0m\u001b[0;34m)\u001b[0m\u001b[0;34m:\u001b[0m\u001b[0;34m\u001b[0m\u001b[0;34m\u001b[0m\u001b[0m\n\u001b[1;32m   1113\u001b[0m             \u001b[0;32mraise\u001b[0m \u001b[0mValueError\u001b[0m\u001b[0;34m(\u001b[0m\u001b[0;34m'Tensor %s may not be fed.'\u001b[0m \u001b[0;34m%\u001b[0m \u001b[0msubfeed_t\u001b[0m\u001b[0;34m)\u001b[0m\u001b[0;34m\u001b[0m\u001b[0;34m\u001b[0m\u001b[0m\n",
      "\u001b[0;31mValueError\u001b[0m: Cannot feed value of shape (1, 1, 32, 32, 3) for Tensor 'input/image:0', which has shape '(?, 32, 32, 3)'"
     ]
    }
   ],
   "source": [
    "img1 = img1[None,:]\n",
    "y = np.zeros([1],dtype=np.int32)\n",
    "eps1 = model.encode(img1*255,y)"
   ]
  },
  {
   "cell_type": "code",
   "execution_count": null,
   "metadata": {},
   "outputs": [],
   "source": [
    "eps1.shape"
   ]
  },
  {
   "cell_type": "code",
   "execution_count": 103,
   "metadata": {},
   "outputs": [],
   "source": [
    "num_tanktops = tanktop_labels.shape[0]\n",
    "tanktop_encodings = np.zeros((num_tanktops,eps1.shape[1]))\n",
    "\n",
    "for idx,label_idx in enumerate(tanktop_labels):\n",
    "\n",
    "    img_tank = resize_image(images_ds[label_idx].T) + ghost\n",
    "    img_tank = img_tank[None, :]\n",
    "\n",
    "    y = np.zeros([1], dtype=np.int32)\n",
    "\n",
    "    emb = model.encode(img_tank*255, y)\n",
    "    tanktop_encodings[idx,:] = emb"
   ]
  },
  {
   "cell_type": "code",
   "execution_count": 104,
   "metadata": {},
   "outputs": [
    {
     "data": {
      "text/plain": [
       "array([[-0.31753811,  1.61346984,  1.45794201, ...,  0.49548078,\n",
       "         1.87058699, -0.90595627],\n",
       "       [-0.01209571, -0.19864616,  1.55546534, ...,  0.22286919,\n",
       "         0.06037294, -0.08278164],\n",
       "       [ 0.09347422,  0.30845931,  1.63610232, ...,  1.48175859,\n",
       "         1.43057108, -0.55828583],\n",
       "       ...,\n",
       "       [-2.26430392, -0.07086679,  2.86355662, ...,  0.14779678,\n",
       "        -0.77215791,  1.23491251],\n",
       "       [-0.10800133,  0.79062027,  0.58590341, ...,  1.59249187,\n",
       "        -0.53355902,  0.78382576],\n",
       "       [-1.31938946, -0.44809258,  0.8670578 , ..., -0.04821097,\n",
       "        -0.27238038, -0.02529697]])"
      ]
     },
     "execution_count": 104,
     "metadata": {},
     "output_type": "execute_result"
    }
   ],
   "source": [
    "tanktop_encodings"
   ]
  },
  {
   "cell_type": "code",
   "execution_count": 105,
   "metadata": {},
   "outputs": [],
   "source": [
    "tanktop_encodings_avg = np.mean(tanktop_encodings,0)"
   ]
  },
  {
   "cell_type": "markdown",
   "metadata": {},
   "source": [
    "#### Getting average encoding for negative examples (with respect to 'top is white')"
   ]
  },
  {
   "cell_type": "code",
   "execution_count": 106,
   "metadata": {},
   "outputs": [],
   "source": [
    "set_tanktops = set(tanktop_labels)\n",
    "set_others = set(range(0,100)) - set_tanktops\n",
    "non_tanktop_labels = np.array(list(set_others))"
   ]
  },
  {
   "cell_type": "code",
   "execution_count": 107,
   "metadata": {},
   "outputs": [
    {
     "data": {
      "text/plain": [
       "array([ 0,  1,  2,  3,  4,  5,  6,  7,  8,  9, 10, 11, 12, 13, 14, 15, 16,\n",
       "       17, 18, 19, 20, 21, 23, 24, 25, 26, 27, 29, 30, 31, 33, 34, 35, 36,\n",
       "       37, 38, 39, 40, 41, 42, 43, 44, 46, 47, 48, 49, 50, 51, 52, 53, 55,\n",
       "       56, 57, 58, 59, 60, 61, 62, 63, 64, 65, 66, 67, 70, 71, 72, 73, 74,\n",
       "       75, 77, 78, 79, 80, 81, 82, 83, 84, 85, 86, 87, 88, 89, 90, 91, 94,\n",
       "       95, 96, 97])"
      ]
     },
     "execution_count": 107,
     "metadata": {},
     "output_type": "execute_result"
    }
   ],
   "source": [
    "non_tanktop_labels"
   ]
  },
  {
   "cell_type": "code",
   "execution_count": 108,
   "metadata": {},
   "outputs": [],
   "source": [
    "\n",
    "num_non_tanktop = non_tanktop_labels.shape[0]\n",
    "non_tanktop_encodings = np.zeros((num_non_tanktop,eps1.shape[1]))\n",
    "\n",
    "for idx,label_idx in enumerate(non_tanktop_labels):\n",
    "\n",
    "    img_non_tanktop = resize_image(images_ds[label_idx].T) + ghost\n",
    "    img_non_tanktop = img_non_tanktop[None, :]\n",
    "\n",
    "    y = np.zeros([1], dtype=np.int32)\n",
    "\n",
    "    emb = model.encode(img_non_tanktop*255, y)\n",
    "    non_tanktop_encodings[idx,:] = emb"
   ]
  },
  {
   "cell_type": "code",
   "execution_count": 109,
   "metadata": {},
   "outputs": [],
   "source": [
    "non_tanktop_encodings_avg = np.mean(non_tanktop_encodings,0)"
   ]
  },
  {
   "cell_type": "code",
   "execution_count": 110,
   "metadata": {},
   "outputs": [],
   "source": [
    "tanktop_direction = tanktop_encodings_avg - non_tanktop_encodings_avg "
   ]
  },
  {
   "cell_type": "code",
   "execution_count": 111,
   "metadata": {},
   "outputs": [
    {
     "data": {
      "text/plain": [
       "array([-0.24914353, -0.26149323, -0.2506276 , ...,  0.24471786,\n",
       "       -0.37288272, -0.23935325])"
      ]
     },
     "execution_count": 111,
     "metadata": {},
     "output_type": "execute_result"
    }
   ],
   "source": [
    "tanktop_direction"
   ]
  },
  {
   "cell_type": "markdown",
   "metadata": {},
   "source": [
    "#### Trying out manipulations"
   ]
  },
  {
   "cell_type": "code",
   "execution_count": null,
   "metadata": {},
   "outputs": [],
   "source": [
    "np.save('tanktop_top_direction.npy', tanktop_direction)"
   ]
  },
  {
   "cell_type": "code",
   "execution_count": 126,
   "metadata": {},
   "outputs": [
    {
     "name": "stderr",
     "output_type": "stream",
     "text": [
      "Clipping input data to the valid range for imshow with RGB data ([0..1] for floats or [0..255] for integers).\n"
     ]
    },
    {
     "data": {
      "image/png": "[encoded data removed]",
      "text/plain": [
       "<Figure size 432x288 with 1 Axes>"
      ]
     },
     "metadata": {
      "needs_background": "light"
     },
     "output_type": "display_data"
    }
   ],
   "source": [
    "img1 = resize_image(images_ds[23].T) + ghost\n",
    "plt.imshow(img1)\n",
    "img1 = img1[None, :]\n",
    "\n",
    "y = np.zeros([1], dtype=np.int32)\n",
    "\n",
    "eps1 = model.encode(img1*255, y)"
   ]
  },
  {
   "cell_type": "code",
   "execution_count": 123,
   "metadata": {},
   "outputs": [
    {
     "data": {
      "text/plain": [
       "<matplotlib.image.AxesImage at 0x7f96047f8f28>"
      ]
     },
     "execution_count": 123,
     "metadata": {},
     "output_type": "execute_result"
    },
    {
     "data": {
      "image/png": "[encoded data removed]",
      "text/plain": [
       "<Figure size 432x288 with 1 Axes>"
      ]
     },
     "metadata": {
      "needs_background": "light"
     },
     "output_type": "display_data"
    }
   ],
   "source": [
    "eps_white = eps1 + tanktop_direction \n",
    "x_hat = model.decode(y, eps_white)\n",
    "\n",
    "x_hat[0].shape\n",
    "\n",
    "plt.imshow((x_hat[0]))"
   ]
  },
  {
   "cell_type": "code",
   "execution_count": 127,
   "metadata": {},
   "outputs": [
    {
     "data": {
      "image/png": "[encoded data removed]",
      "text/plain": [
       "<Figure size 1800x360 with 6 Axes>"
      ]
     },
     "metadata": {
      "needs_background": "light"
     },
     "output_type": "display_data"
    }
   ],
   "source": [
    "fig, axes = plt.subplots(1, 6, figsize=(25, 5))\n",
    "for i in range(6):\n",
    "    eps = eps1 + tanktop_direction * i/2.5\n",
    "    x_hat = model.decode(y, eps)\n",
    "    axes[i].set_title('{:.1f}'.format(i*.4))\n",
    "    axes[i].imshow(x_hat[0])\n",
    "    axes[i].axis('off')"
   ]
  },
  {
   "cell_type": "code",
   "execution_count": null,
   "metadata": {},
   "outputs": [],
   "source": [
    "img1 = resize_image(images_ds[50].T) + ghost\n",
    "img1 = img1[None, :]\n",
    "\n",
    "y = np.zeros([1], dtype=np.int32)\n",
    "\n",
    "eps1 = model.encode(img1*255, y)\n",
    "\n",
    "img2 = resize_image(images_ds[30].T) + ghost\n",
    "img2 = img2[None, :]\n",
    "\n",
    "y = np.zeros([1], dtype=np.int32)\n",
    "\n",
    "eps2 = model.encode(img2*255, y)\n",
    "\n",
    "direction = eps2 - eps1\n",
    "eps3 = eps1 + direction * .5\n",
    "x_hat = model.decode(y, eps3)\n",
    "\n",
    "x_hat[0].shape\n",
    "\n",
    "plt.imshow((x_hat[0]))"
   ]
  },
  {
   "cell_type": "code",
   "execution_count": null,
   "metadata": {},
   "outputs": [],
   "source": [
    "fig, axes = plt.subplots(1, 6,figsize=(25, 5))\n",
    "for i in range(6):\n",
    "    eps = eps1 + direction * i/5 \n",
    "    x_hat = model.decode(y, eps)\n",
    "    axes[i].set_title('{:.1f}'.format(i*.2))\n",
    "    axes[i].imshow(x_hat[0])\n",
    "    axes[i].axis('off')"
   ]
  },
  {
   "cell_type": "code",
   "execution_count": 218,
   "metadata": {},
   "outputs": [],
   "source": [
    "a = tf.random_uniform((10,))"
   ]
  },
  {
   "cell_type": "code",
   "execution_count": 235,
   "metadata": {},
   "outputs": [],
   "source": [
    "samples = model.sample(y,[.8]*1)"
   ]
  },
  {
   "cell_type": "code",
   "execution_count": null,
   "metadata": {},
   "outputs": [],
   "source": []
  },
  {
   "cell_type": "code",
   "execution_count": 236,
   "metadata": {},
   "outputs": [
    {
     "data": {
      "text/plain": [
       "<matplotlib.image.AxesImage at 0x7f95f16f7fd0>"
      ]
     },
     "execution_count": 236,
     "metadata": {},
     "output_type": "execute_result"
    },
    {
     "data": {
      "image/png": "[encoded data removed]",
      "text/plain": [
       "<Figure size 432x288 with 1 Axes>"
      ]
     },
     "metadata": {
      "needs_background": "light"
     },
     "output_type": "display_data"
    }
   ],
   "source": [
    "plt.imshow(samples[0])"
   ]
  },
  {
   "cell_type": "code",
   "execution_count": 258,
   "metadata": {},
   "outputs": [],
   "source": [
    "for _ in range(1000):\n",
    "    img_sampled =  model.sample(y,[.8]*1)\n",
    "    samples = np.concatenate((samples,img_sampled))\n",
    "    "
   ]
  },
  {
   "cell_type": "code",
   "execution_count": null,
   "metadata": {},
   "outputs": [],
   "source": []
  },
  {
   "cell_type": "code",
   "execution_count": 256,
   "metadata": {},
   "outputs": [],
   "source": [
    "np.save(\"samples\",samples)"
   ]
  },
  {
   "cell_type": "code",
   "execution_count": 257,
   "metadata": {},
   "outputs": [
    {
     "data": {
      "text/plain": [
       "(2001, 32, 32, 3)"
      ]
     },
     "execution_count": 257,
     "metadata": {},
     "output_type": "execute_result"
    }
   ],
   "source": [
    "samples.shape"
   ]
  },
  {
   "cell_type": "code",
   "execution_count": null,
   "metadata": {},
   "outputs": [],
   "source": []
  }
 ],
 "metadata": {
  "kernelspec": {
   "display_name": "Python [conda env:glow]",
   "language": "python",
   "name": "conda-env-glow-py"
  },
  "language_info": {
   "codemirror_mode": {
    "name": "ipython",
    "version": 3
   },
   "file_extension": ".py",
   "mimetype": "text/x-python",
   "name": "python",
   "nbconvert_exporter": "python",
   "pygments_lexer": "ipython3",
   "version": "3.6.9"
  }
 },
 "nbformat": 4,
 "nbformat_minor": 4
}
